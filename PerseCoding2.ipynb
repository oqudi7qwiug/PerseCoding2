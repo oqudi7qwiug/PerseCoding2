{
  "nbformat": 4,
  "nbformat_minor": 0,
  "metadata": {
    "colab": {
      "provenance": [],
      "authorship_tag": "ABX9TyNoBmvD1rTDqZ6ggDHtgXT5",
      "include_colab_link": true
    },
    "kernelspec": {
      "name": "python3",
      "display_name": "Python 3"
    },
    "language_info": {
      "name": "python"
    }
  },
  "cells": [
    {
      "cell_type": "markdown",
      "metadata": {
        "id": "view-in-github",
        "colab_type": "text"
      },
      "source": [
        "<a href=\"https://colab.research.google.com/github/oqudi7qwiug/PerseCoding2/blob/main/PerseCoding2.ipynb\" target=\"_parent\"><img src=\"https://colab.research.google.com/assets/colab-badge.svg\" alt=\"Open In Colab\"/></a>"
      ]
    },
    {
      "cell_type": "markdown",
      "source": [
        "Q2) Your program will be given a single word w and a positive whole number n as input.\n",
        "• If the word has n letters, your program must print MATCH\n",
        "• If the word has more than n letters, your program must print MORE\n",
        "• If the word has fewer than n letters, your program must print FEWER"
      ],
      "metadata": {
        "id": "veg7DR92Egq_"
      }
    },
    {
      "cell_type": "code",
      "source": [
        "def count_my_string_characters(string):\n",
        "    return len(string)\n",
        "\n",
        "\n",
        "\n",
        "w = \"ashfiashudsaqhfisahoifah\"\n",
        "\n",
        "\n",
        "n = 6\n",
        "\n",
        "\n",
        "if n==count_my_string_characters(w):\n",
        "    print(\"MATCH\")\n",
        "\n",
        "elif n > count_my_string_characters(w):\n",
        "    print(\"MORE\")\n",
        "else :\n",
        "    print(\"FEWER\")"
      ],
      "metadata": {
        "colab": {
          "base_uri": "https://localhost:8080/"
        },
        "id": "I1GWEp6dEu4c",
        "outputId": "cb4bb550-d926-4f8a-a428-2b3149f8861a"
      },
      "execution_count": 7,
      "outputs": [
        {
          "output_type": "stream",
          "name": "stdout",
          "text": [
            "FEWER\n"
          ]
        }
      ]
    }
  ]
}